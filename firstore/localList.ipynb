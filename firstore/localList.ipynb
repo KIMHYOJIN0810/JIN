{
 "cells": [
  {
   "cell_type": "code",
   "execution_count": 2,
   "metadata": {},
   "outputs": [],
   "source": [
    "#sdk\n",
    "import firebase_admin\n",
    "from firebase_admin import credentials\n",
    "from firebase_admin import firestore\n",
    "from firebase_admin import auth\n",
    "import requests\n",
    "import csv"
   ]
  },
  {
   "cell_type": "code",
   "execution_count": 7,
   "metadata": {},
   "outputs": [],
   "source": [
    "#cert\n",
    "cred = credentials.Certificate('mykey.json')\n",
    "firebase_admin.initialize_app(cred,{\n",
    "    'databaseURL' : 'https://together-at001.firebaseio.com/'\n",
    "    \n",
    "})\n",
    "db = firestore.client()"
   ]
  },
  {
   "cell_type": "code",
   "execution_count": 3,
   "metadata": {},
   "outputs": [],
   "source": [
    "#open csv \n",
    "f = open('Seoul.csv','r',encoding='cp949')\n",
    "data = csv.reader(f,delimiter=',')\n",
    "region1 = []\n",
    "region2= []\n",
    "region3= []\n",
    "for row in data:\n",
    "    if row[0] != '':\n",
    "        region1.append(row[0])\n",
    "    if row[1] != '':\n",
    "        region2.append(row[1])\n",
    "    if row[2] != '':\n",
    "        region3.append(row[2])\n",
    "\n",
    "\n",
    "#for i in range(0,len(region1)) : \n",
    "    #doc_ref = db.collection(u'regionList').document(region1[i]).collection(region2[i]).document(region3[i])\n",
    "    #doc_ref.set({\n",
    "    #u'temp' : '',\n",
    "    \n",
    "    #})\n",
    "f.close()"
   ]
  },
  {
   "cell_type": "code",
   "execution_count": 8,
   "metadata": {},
   "outputs": [],
   "source": [
    "#insert sejong list\n",
    "f=open('Sejong.csv','r',encoding='cp949')\n",
    "data = csv.reader(f,delimiter=',')\n",
    "s_region=[]\n",
    "s_region1=[]\n",
    "s_region2=[]\n",
    "for row in data:\n",
    "    s_region.append(row[0])\n",
    "    s_region1.append(row[0])\n",
    "    s_region2.append(row[1])\n",
    "for i in range(0,len(s_region1)) : \n",
    "    doc_ref = db.collection(u'regionList').document(s_region[i]).collection(s_region1[i]).document(s_region2[i])\n",
    "    doc_ref.set({\n",
    "    u'temp' : '',\n",
    "    \n",
    "    })\n",
    "f.close()"
   ]
  },
  {
   "cell_type": "code",
   "execution_count": 11,
   "metadata": {},
   "outputs": [],
   "source": [
    "#insert list\n",
    "f=open('regionList.csv','r',encoding='cp949')\n",
    "data = csv.reader(f,delimiter=',')\n",
    "l1=[] #시도 단위\n",
    "l2=[] #시군구 단위\n",
    "l3=[] #동단위\n",
    "for row in data:\n",
    "    l1.append(row[0])\n",
    "    l2.append(row[1])\n",
    "    l3.append(row[2])\n",
    "\n",
    "for i in range(0,len(l1)) : \n",
    "    doc_ref = db.collection(u'regionList').document(l1[i]).collection(l2[i]).document(l3[i])\n",
    "    doc_ref.set({\n",
    "    u'temp' : '',\n",
    "    \n",
    "   })\n",
    "f.close()"
   ]
  },
  {
   "cell_type": "code",
   "execution_count": null,
   "metadata": {},
   "outputs": [],
   "source": []
  }
 ],
 "metadata": {
  "kernelspec": {
   "display_name": "Python 3",
   "language": "python",
   "name": "python3"
  },
  "language_info": {
   "codemirror_mode": {
    "name": "ipython",
    "version": 3
   },
   "file_extension": ".py",
   "mimetype": "text/x-python",
   "name": "python",
   "nbconvert_exporter": "python",
   "pygments_lexer": "ipython3",
   "version": "3.7.9"
  }
 },
 "nbformat": 4,
 "nbformat_minor": 4
}
