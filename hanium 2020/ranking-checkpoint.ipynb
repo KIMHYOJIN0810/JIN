{
 "cells": [
  {
   "cell_type": "code",
   "execution_count": 2,
   "metadata": {},
   "outputs": [
    {
     "name": "stdout",
     "output_type": "stream",
     "text": [
      "pygame 1.9.6\n",
      "Hello from the pygame community. https://www.pygame.org/contribute.html\n"
     ]
    }
   ],
   "source": [
    "# 라이브러리를 로드\n",
    "from bs4 import BeautifulSoup\n",
    "import requests\n",
    "import re \n",
    "import sys\n",
    "import pprint\n",
    "import jpype\n",
    "from konlpy.tag import Kkma\n",
    "from collections import Counter\n",
    "import pytagcloud\n",
    "import webbrowser\n",
    "kkma = Kkma()"
   ]
  },
  {
   "cell_type": "code",
   "execution_count": 9,
   "metadata": {},
   "outputs": [
    {
     "name": "stdout",
     "output_type": "stream",
     "text": [
      "https://news.naver.com/main/read.nhn?mode=LSD&mid=shm&sid1=102&oid=028&aid=0002503322\n",
      "https://news.naver.com/main/read.nhn?mode=LSD&mid=shm&sid1=100&oid=005&aid=0001337355\n",
      "https://news.naver.com/main/read.nhn?mode=LSD&mid=shm&sid1=100&oid=025&aid=0003013930\n",
      "https://news.naver.com/main/read.nhn?mode=LSD&mid=shm&sid1=102&oid=025&aid=0003013939\n",
      "https://news.naver.com/main/read.nhn?mode=LSD&mid=shm&sid1=100&oid=025&aid=0003013922\n",
      "https://news.naver.com/main/read.nhn?mode=LSD&mid=shm&sid1=102&oid=008&aid=0004433617\n",
      "https://news.naver.com/main/read.nhn?mode=LSD&mid=shm&sid1=104&oid=025&aid=0003013946\n",
      "https://news.naver.com/main/read.nhn?mode=LSD&mid=shm&sid1=100&oid=003&aid=0009944914\n",
      "https://news.naver.com/main/read.nhn?mode=LSD&mid=shm&sid1=100&oid=366&aid=0000548707\n",
      "https://news.naver.com/main/read.nhn?mode=LSD&mid=shm&sid1=100&oid=025&aid=0003013930\n",
      "https://news.naver.com/main/read.nhn?mode=LSD&mid=shm&sid1=104&oid=025&aid=0003013946\n",
      "https://news.naver.com/main/read.nhn?mode=LSD&mid=shm&sid1=104&oid=015&aid=0004371786\n",
      "https://news.naver.com/main/read.nhn?mode=LSD&mid=shm&sid1=101&oid=009&aid=0004606603\n",
      "https://news.naver.com/main/read.nhn?mode=LSD&mid=shm&sid1=101&oid=277&aid=0004709815\n",
      "https://news.naver.com/main/read.nhn?mode=LSD&mid=shm&sid1=101&oid=011&aid=0003761918\n",
      "https://news.naver.com/main/read.nhn?mode=LSD&mid=shm&sid1=105&oid=003&aid=0009944923\n",
      "https://news.naver.com/main/read.nhn?mode=LSD&mid=shm&sid1=105&oid=018&aid=0004678296\n",
      "https://news.naver.com/main/read.nhn?mode=LSD&mid=shm&sid1=102&oid=001&aid=0011716570\n",
      "https://news.naver.com/main/read.nhn?mode=LSD&mid=shm&sid1=102&oid=003&aid=0009945044\n",
      "https://news.naver.com/main/read.nhn?mode=LSD&mid=shm&sid1=102&oid=015&aid=0004371782\n",
      "https://news.naver.com/main/read.nhn?mode=LSD&mid=shm&sid1=103&oid=025&aid=0003013925\n",
      "https://news.naver.com/main/read.nhn?mode=LSD&mid=shm&sid1=103&oid=277&aid=0004709946\n"
     ]
    }
   ],
   "source": [
    "url = 'https://news.naver.com/main/ranking/popularDay.nhn?rankingType=popular_day'\n",
    "resp = requests.get(url)\n",
    "html = BeautifulSoup(resp.content, 'html.parser')\n",
    "#순위에 있는 기사들의 url 크롤링\n",
    "ranklist = [] #랭킹에 있는 기사들의 url을 저장할 list\n",
    "for link in html.findAll('a',href=re.compile(\"^(https://news.naver.com/main/read)((?!:).)*$\")):\n",
    "    if 'href' in link.attrs:\n",
    "        print(link.attrs['href'])\n",
    "#ranking_url = html.find_all('a')\n"
   ]
  }
 ],
 "metadata": {
  "kernelspec": {
   "display_name": "Python 2",
   "language": "python",
   "name": "python2"
  },
  "language_info": {
   "codemirror_mode": {
    "name": "ipython",
    "version": 2
   },
   "file_extension": ".py",
   "mimetype": "text/x-python",
   "name": "python",
   "nbconvert_exporter": "python",
   "pygments_lexer": "ipython2",
   "version": "2.7.15"
  }
 },
 "nbformat": 4,
 "nbformat_minor": 4
}
